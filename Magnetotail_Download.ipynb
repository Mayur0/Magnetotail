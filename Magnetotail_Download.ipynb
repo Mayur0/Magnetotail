{
 "cells": [
  {
   "cell_type": "code",
   "execution_count": 2,
   "metadata": {},
   "outputs": [],
   "source": [
    "import numpy as np\n",
    "import pandas\n",
    "from requests import get  # to make GET request\n",
    "import tarfile"
   ]
  },
  {
   "cell_type": "code",
   "execution_count": 3,
   "metadata": {},
   "outputs": [],
   "source": [
    "times = (('2002','09','20','17','40','03','2002','09','20','19','15','46'),\n",
    "         ('2002','09','13','13','11','22','2002','09','13','14','22','53'),\n",
    "         ('2005','08','07','10','48','33','2005','08','07','12','32','36'),\n",
    "         ('2005','08','28','16','18','37','2005','08','28','18','00','27'),\n",
    "         ('2003','10','13','07','58','30','2003','10','13','11','32','07'),\n",
    "        ('2003','10','18','04','54','33','2003','10','18','07','54','02'),\n",
    "        ('2003','10','11','05','04','17','2003','10','11','06','13','28'),\n",
    "        ('2007','07','17','10','39','13','2007','07','17','12','26','36'),\n",
    "        ('2007','07','17','07','06','32','2007','07','17','08','32','45'),\n",
    "        ('2003','10','23','08','12','41','2003','10','23','13','52','11'),\n",
    "        ('2005','08','10','02','15','18','2005','08','10','03','21','29'),\n",
    "        ('2008','10','16','00','36','41','2008','10','16','01','44','28'),\n",
    "        ('2004','09','12','15','25','47','2004','09','12','16','27','14'),\n",
    "        ('2006','08','04','05','20','38','2006','08','04','08','20','59'),\n",
    "        ('2009','07','29','00','00','07','2009','07','29','01','03','52'))"
   ]
  },
  {
   "cell_type": "code",
   "execution_count": 1,
   "metadata": {},
   "outputs": [],
   "source": [
    "times = (('2002', '09', '01', '08', '49', '32','2002', '09', '01', '12', '10', '44'),\n",
    "        ('2002', '09', '08', '14', '17', '19','2002', '09', '08', '17', '15', '48'),\n",
    "        ('2002', '10', '29', '05', '31', '24','2002', '10', '29', '06', '51', '05'),\n",
    "        ('2003', '09', '29', '02', '38', '25','2003', '09', '29', '05', '07', '01'),\n",
    "        ('2004', '10', '22', '11', '54', '08','2004', '10', '22', '13', '12', '09'),\n",
    "        ('2004', '10', '25', '15', '55', '02','2004', '10', '25', '17', '29', '19'),\n",
    "        ('2005', '10', '12', '21', '03', '33','2005', '10', '12', '21', '04', '31'),\n",
    "        ('2005', '08', '17', '13', '31', '44','2005', '08', '17', '14', '48', '09'),\n",
    "        ('2006', '10', '07', '00', '00', '05','2006', '10', '07', '02', '48', '35'),\n",
    "        ('2007', '08', '06', '17', '07', '06','2007', '08', '06', '19', '58', '28'),\n",
    "        ('2008', '07', '26', '02', '27', '41','2008', '07', '26', '05', '53', '30'),\n",
    "        ('2009', '09', '15', '12', '59', '53','2009', '09', '15', '15', '48', '48'))"
   ]
  },
  {
   "cell_type": "code",
   "execution_count": 6,
   "metadata": {},
   "outputs": [],
   "source": [
    "for i in range(len(times)):\n",
    "\n",
    "    def download(url, params, file_name):\n",
    "        # open in binary mode\n",
    "        with open(file_name, \"wb\") as file:\n",
    "            # get request\n",
    "            response = get(url, params=params)\n",
    "            # write to file\n",
    "            file.write(response.content)\n",
    "            \n",
    "    #DATASET_ID Options:\n",
    "    #C4_CP_CIS-CODIF_HS_H1_MOMENTS\n",
    "    #C4_CP_FGM_SPIN\n",
    "    #C4_CP_PEA_MOMENTS\n",
    "    #C4_CP_PEA_PITCH_SPIN_DEFlux\n",
    "    #C4_CP_AUX_ECLAT_REGION\n",
    "    \n",
    "    start_date = str(times[i][0])+'-'+str(times[i][1])+'-'+str(times[i][2])+'T'+str(times[i][3])+':'+str(times[i][4])+':'+str(times[i][5])+'Z'\n",
    "    end_date = str(times[i][6])+'-'+str(times[i][7])+'-'+str(times[i][8])+'T'+str(times[i][9])+':'+str(times[i][10])+':'+str(times[i][11])+'Z'\n",
    "\n",
    "    myurl = 'https://csa.esac.esa.int/csa/aio/product-action'\n",
    "    query_specs = {'DATASET_ID': 'C4_CP_PEA_PITCH_SPIN_DEFlux',\n",
    "                    'START_DATE': start_date,\n",
    "                    'END_DATE': end_date,\n",
    "                    'DELIVERY_FORMAT': 'CDF',\n",
    "                    'NON_BROWSER': '1',\n",
    "                    'DELIVERY_INTERVAL': 'all',\n",
    "                    'CSACOOKIE': '260A526A39095D6837215D6522090E337E51057D281B522F255957603F091D6D2A064F6C2A114673650A526A39095D682A4602350B1D506D6509502F3E03'}\n",
    "\n",
    "\n",
    "    download(myurl, query_specs, 'filename.tar.gz')\n",
    "\n",
    "    with tarfile.open(\"filename.tar.gz\") as tar:\n",
    "        tarname = tar.getnames()\n",
    "        tar.extractall()"
   ]
  },
  {
   "cell_type": "code",
   "execution_count": null,
   "metadata": {},
   "outputs": [],
   "source": []
  }
 ],
 "metadata": {
  "kernelspec": {
   "display_name": "Python 3",
   "language": "python",
   "name": "python3"
  },
  "language_info": {
   "codemirror_mode": {
    "name": "ipython",
    "version": 3
   },
   "file_extension": ".py",
   "mimetype": "text/x-python",
   "name": "python",
   "nbconvert_exporter": "python",
   "pygments_lexer": "ipython3",
   "version": "3.6.5"
  }
 },
 "nbformat": 4,
 "nbformat_minor": 2
}
